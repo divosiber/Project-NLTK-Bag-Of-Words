{
  "nbformat": 4,
  "nbformat_minor": 0,
  "metadata": {
    "colab": {
      "provenance": [],
      "authorship_tag": "ABX9TyMNHAwXLCvFbxIoqjfzkczy",
      "include_colab_link": true
    },
    "kernelspec": {
      "name": "python3",
      "display_name": "Python 3"
    },
    "language_info": {
      "name": "python"
    }
  },
  "cells": [
    {
      "cell_type": "markdown",
      "metadata": {
        "id": "view-in-github",
        "colab_type": "text"
      },
      "source": [
        "<a href=\"https://colab.research.google.com/github/divosiber/Project-NLTK-Bag-Of-Words/blob/master/Text_Classification_Bag_of_words.ipynb\" target=\"_parent\"><img src=\"https://colab.research.google.com/assets/colab-badge.svg\" alt=\"Open In Colab\"/></a>"
      ]
    },
    {
      "cell_type": "markdown",
      "source": [
        "Implementation of Artificial Intelligence\n",
        "\n",
        "Text classification berdasarkan Bag-of-Words\n",
        "\n",
        "- tiga topik terkait: Kesehatan, Olahraga, Keuangan.\n",
        "\n",
        "Klasifikasikan teks ini dalam topik :\n",
        "“Cristiano Ronaldo came off the bench to earn Manchester United a hard-fought 2-1 victory at Everton in the Premier League on Sunday, taking his career goal tally to 700 in the process. Just as United did last weekend in their derby mauling at the hands of local rivals Manchester City, they again found themselves behind early on at Goodison Park after Alex Iwobi curled a sublime strike into the net from 20 metres.”"
      ],
      "metadata": {
        "id": "9WA-NInlEjmi"
      }
    },
    {
      "cell_type": "markdown",
      "source": [
        "# **Mengimport dan mendownload library nltk**"
      ],
      "metadata": {
        "id": "_sR9lakqidF6"
      }
    },
    {
      "cell_type": "code",
      "execution_count": null,
      "metadata": {
        "colab": {
          "base_uri": "https://localhost:8080/"
        },
        "id": "rXH6cA04ePCg",
        "outputId": "e2486308-f7bd-4a08-ba6a-972e8145ca9e"
      },
      "outputs": [
        {
          "output_type": "stream",
          "name": "stderr",
          "text": [
            "[nltk_data] Downloading collection 'popular'\n",
            "[nltk_data]    | \n",
            "[nltk_data]    | Downloading package cmudict to /root/nltk_data...\n",
            "[nltk_data]    |   Unzipping corpora/cmudict.zip.\n",
            "[nltk_data]    | Downloading package gazetteers to /root/nltk_data...\n",
            "[nltk_data]    |   Unzipping corpora/gazetteers.zip.\n",
            "[nltk_data]    | Downloading package genesis to /root/nltk_data...\n",
            "[nltk_data]    |   Unzipping corpora/genesis.zip.\n",
            "[nltk_data]    | Downloading package gutenberg to /root/nltk_data...\n",
            "[nltk_data]    |   Unzipping corpora/gutenberg.zip.\n",
            "[nltk_data]    | Downloading package inaugural to /root/nltk_data...\n",
            "[nltk_data]    |   Unzipping corpora/inaugural.zip.\n",
            "[nltk_data]    | Downloading package movie_reviews to\n",
            "[nltk_data]    |     /root/nltk_data...\n",
            "[nltk_data]    |   Unzipping corpora/movie_reviews.zip.\n",
            "[nltk_data]    | Downloading package names to /root/nltk_data...\n",
            "[nltk_data]    |   Unzipping corpora/names.zip.\n",
            "[nltk_data]    | Downloading package shakespeare to /root/nltk_data...\n",
            "[nltk_data]    |   Unzipping corpora/shakespeare.zip.\n",
            "[nltk_data]    | Downloading package stopwords to /root/nltk_data...\n",
            "[nltk_data]    |   Unzipping corpora/stopwords.zip.\n",
            "[nltk_data]    | Downloading package treebank to /root/nltk_data...\n",
            "[nltk_data]    |   Unzipping corpora/treebank.zip.\n",
            "[nltk_data]    | Downloading package twitter_samples to\n",
            "[nltk_data]    |     /root/nltk_data...\n",
            "[nltk_data]    |   Unzipping corpora/twitter_samples.zip.\n",
            "[nltk_data]    | Downloading package omw to /root/nltk_data...\n",
            "[nltk_data]    | Downloading package omw-1.4 to /root/nltk_data...\n",
            "[nltk_data]    | Downloading package wordnet to /root/nltk_data...\n",
            "[nltk_data]    | Downloading package wordnet2021 to /root/nltk_data...\n",
            "[nltk_data]    | Downloading package wordnet31 to /root/nltk_data...\n",
            "[nltk_data]    | Downloading package wordnet_ic to /root/nltk_data...\n",
            "[nltk_data]    |   Unzipping corpora/wordnet_ic.zip.\n",
            "[nltk_data]    | Downloading package words to /root/nltk_data...\n",
            "[nltk_data]    |   Unzipping corpora/words.zip.\n",
            "[nltk_data]    | Downloading package maxent_ne_chunker to\n",
            "[nltk_data]    |     /root/nltk_data...\n",
            "[nltk_data]    |   Unzipping chunkers/maxent_ne_chunker.zip.\n",
            "[nltk_data]    | Downloading package punkt to /root/nltk_data...\n",
            "[nltk_data]    |   Unzipping tokenizers/punkt.zip.\n",
            "[nltk_data]    | Downloading package snowball_data to\n",
            "[nltk_data]    |     /root/nltk_data...\n",
            "[nltk_data]    | Downloading package averaged_perceptron_tagger to\n",
            "[nltk_data]    |     /root/nltk_data...\n",
            "[nltk_data]    |   Unzipping taggers/averaged_perceptron_tagger.zip.\n",
            "[nltk_data]    | \n",
            "[nltk_data]  Done downloading collection popular\n"
          ]
        },
        {
          "output_type": "execute_result",
          "data": {
            "text/plain": [
              "True"
            ]
          },
          "metadata": {},
          "execution_count": 1
        }
      ],
      "source": [
        "import nltk\n",
        "nltk.download('popular')"
      ]
    },
    {
      "cell_type": "markdown",
      "source": [
        "# **import library**\n",
        "\n",
        "Import Library Tokenize untuk memisahkan teks menjadi beberwpa bagian.\n",
        "\n",
        "import stopwords untuk menghapus beebrapa kata yang tidak akan digunakan\n",
        "\n",
        "\n",
        "import library limitization"
      ],
      "metadata": {
        "id": "uFTl8dLwi66-"
      }
    },
    {
      "cell_type": "code",
      "source": [
        "from nltk.tokenize import sent_tokenize, word_tokenize\n",
        "from nltk.corpus import stopwords\n",
        "from nltk.stem import WordNetLemmatizer"
      ],
      "metadata": {
        "id": "zl44hcfcfn0F"
      },
      "execution_count": null,
      "outputs": []
    },
    {
      "cell_type": "markdown",
      "source": [
        "# **Sumber artikel**"
      ],
      "metadata": {
        "id": "4k5H3rHRs51S"
      }
    },
    {
      "cell_type": "markdown",
      "source": [
        "Source article untuk  artikel sports = https://theathletic.com/5435913/2024/04/23/erik-ten-hag-thinks-manchester-united-are-unlucky-hes-only-partly-right/?source=nyt_sports\n",
        "\n",
        "sumber artikel finance = https://hbr.org/2014/09/how-to-prioritize-your-innovation-budget\n",
        "\n",
        "sumber artikel medical = https://www.path.org/our-impact/articles/how-does-human-milk-banking-help-ensure-child-health/\n",
        "\n",
        "\n"
      ],
      "metadata": {
        "id": "6RiZIh54rGuW"
      }
    },
    {
      "cell_type": "markdown",
      "source": [
        "# **Klasifikasi teks artikel dengan Bag of words**"
      ],
      "metadata": {
        "id": "iMWmpwqImqvN"
      }
    },
    {
      "cell_type": "markdown",
      "source": [
        "# **Data Latih**"
      ],
      "metadata": {
        "id": "2jxaJaJHyunJ"
      }
    },
    {
      "cell_type": "code",
      "source": [
        "#data latih\n",
        "olahraga = 'Ten Hag took much the same line of argument before United’s last Premier League outing against Bournemouth. While accepting that “like a minister” he will bear ultimate responsibility for results, he could not help but bemoan his side’s bad luck over the past eight months.“It’s huge. A lot went against us this season,” he said. And though United’s misfortune is not limited to refereeing calls in Ten Hag’s mind, that was where he trained his focus.“You see all the penalties we conceded last week (against Chelsea and Liverpool) could also have been going in another way. You think over the course of a season sometimes you will get one, sometimes you will concede one. This season it feels like we only concede.United have been awarded five penalties this season and have conceded 11, with four given away in the opening four games of the Champions League group stage. While most of those in Europe were not especially contentious, many of the six conceded in the Premier League have sparked debate.Some have been soft — Rasmus Hojlund and Casemiro’s concessions against Manchester City and Wolverhampton Wanderers in particular — and others more debatable. None, it should be noted, have resulted in the officials responsible being stood down for the subsequent round of fixtures, as happened after Wolves were denied a penalty at Old Trafford on the opening weekend of the season.All those decisions, however, are a matter of opinion. Outside of offside, most refereeing calls are subjective by nature and, as the era of VAR has taught us, there are different definitions of what constitutes a clear and obvious mistake.Ten Hag has more substantive grounds for complaint on arguably the biggest single reason for United’s struggles: player injuries and enforced absences. The revolving door of United’s treatment room has seen all but four senior squad members — Bruno Fernandes, Andre Onana, Diogo Dalot and Alejandro Garnacho — pass through it at some point this year.The 2-2 draw at Bournemouth was the first time United have named an unchanged line-up since the opening two games of a season ravaged by injury. According to data from transfermarkt, United’s squad have collectively spent 1,710 days sidelined since the start of the season.Ten Hag said last week he has not been able to pick his “favourite” line-up since the 2-1 victory over Manchester City at Old Trafford in January of last year. Just as United’s injuries have appeared to abate, new concerns have cropped up.Fresh problems for Willy Kambwala, Mason Mount and Sofyan Amrabat meant United’s absentee list swelled into double figures again ahead of the semi-final, while Marcus Rashford and Scott McTominay both appeared to be carrying issues when substituted at Wembley.The absence of either of his first-choice left-backs for the majority of the season has, Ten Hag feels, had a material effect on United’s ability to play the way he wants. Lisandro Martinez’s unavailability has deprived him of a player who had a transformative effect during his first year in Manchester.But is it all down to luck or could certain things be done differently? United have set to work restructuring the medical department since the appointment of head of sports medicine Gary O’Driscoll. Sources, who asked to remain anonymous to protect their relationships, believe there have been noticeable improvements since the former Arsenal club doctor’s arrival and that restructuring continues apace.Ten Hag’s training methods have also come under scrutiny and can be intense, particularly for those not involved in matches, who are put through rigorous sessions the day after games to maintain a consistent level of physical load across the squad. The fast, direct and often chaotic style of play that has been adopted this season also has to be considered as part of that equation.And when looking at the performances that style of play has produced on a statistical level, United have arguably had their fair share of good fortune to balance out the bad.Everybody knows by now that United face a lot of shots on goal — 574 in total in the Premier League this season. No top-flight team has faced as many on a per-game basis, but in the context of recent history, that figure only becomes all the more remarkable.Since 2016-17, eight of the 15 top-flight sides to have faced more shots than United have been relegated. None have finished higher than 15th. At the current rate, United will surpass all of those 15 sides and yet even in the absolute worst-case scenario, they cannot finish any lower than 14th.Ten Hag has defended United’s apparent willingness to give up shots by arguing they are predominantly low-quality chances and he has a point. The average shot United have faced in the league this season has had a 10 per cent chance of resulting in a goal.Brentford and Newcastle have the worst record in that regard, with the average shot having a 13 per cent chance of being scored. The difference between a 13 per cent and 10 per cent chance is small but significant. A marginal gain, if you like.But if you concede at least 20 shots a game, as United have regularly been doing of late, and one in every 10 goes in, you’ll need to score three to win. The eighth-worst attack in the league, with only 47 goals in 32 league games, cannot count on that.United’s 47 goals is level with Luton Town and in line with expected data, too. Defensively, Ten Hag’s side have conceded 48 goals — one of the Premier League’s better records — but from an expected total of 59.8.Take one away from the other and United’s expected goal difference is -12.2, the fifth-worst in the league. Suddenly, that actual goal difference of -1 does not look so bad after all.But nothing can change perceptions and narratives around a side like a favourable run of fixtures, in the short term at least, and United now face the Premier League’s bottom two at Old Trafford in the space of four days.It should not need saying, but United are a better side than both Sheffield United and Burnley by any comprehensive measure. They should not need to get lucky to prove it.'\n",
        "keuangan = 'Here’s the scene: A problem has come up with one of your supply chain vendors, threatening to delay timely shipment of your product. At the same time, a potential opportunity appears that, with some exploration and investment, could lead to a new generation of products down the road. Which do you respond to first?You probably reach for your firefighter’s hat to extinguish the short-term problem. And therein lies a bigger problem. Leaders and organizations are under more stress than ever to do two things simultaneously: deliver on today’s pressing commitments by troubleshooting and refining processes; and find and invest in innovation opportunities that will create tomorrow’s success. How your organization responds to this stress in allocating scarce resources is a crucial but often unaddressed issue. The natural bias is to respond immediately to what is in front of you (like answering endless emails as they come in, for instance). The problem is, this instinct crowds out longer term, innovative thinking.We’ve talked to many organizations in this bind. One of them told us, “We’re playing non-stop ‘Whac-A-Mole’ here.” At another, the unfortunate mantra was, “The urgent drives out the important.” But we’ve found that many leading organizations are able to overcome this bias, diverting significant resources away from today’s requirements to fund the innovations that will deliver tomorrow’s value. To find out how they do this, we focused on the two key questions underlying the challenge: How much is your organization spending on innovation? And how much do you think it should be spending?This seems basic, but often people just don’t know the precise answer or haven’t thought in these simple terms. When we recently put these questions to a CEO, he said he guessed his organization was currently allocating 5% of their spending to innovation (new products and services), but added that they really should be investing 10-15%. He went on to say that the insatiable demands of today’s operational turbulence were robbing him and his organization of ability to invest in the future.Segregate funds for improvement and innovation. You need to measure spending across the four categories, and then be disciplined about segregating funds for improvement and innovation. In the absence of this clear segregation, the turbulence of day-to-day operations will devour the lion’s share of resources. Go ahead and do the math on your current allocation; you’ll likely find that more than 90% of your resources are devoted to keeping the lights on. Many leading IT organizations have recognized this problem and manage their budgets in three buckets: operations, maintenance, and innovation. They aggressively attempt to drive down the portion of their spending on operations and maintenance from 90% to 60%.Create new organizations and controls for innovation. You need to develop organizational structures and controls that are appropriate for both sustaining and disruptive innovations. Today’s operations and incremental improvements can be managed within the traditional management structure, a command-and-control hierarchy, but tomorrow’s sustaining innovations and big, disruptive innovations need new organizational structures and controls. It’s too easy for revenue-producing parts of the business to poach resources from innovation projects and teams that are not (yet) contributing to the top line. They need to be protected – made autonomous, with their own dedicated budgets, resources, and leadership – until they are. And innovations need measures and controls which reflect their experimental approach to learning as they chart new territory with unpredictable outcomes. Performance should be measured by market momentum (such as new targeted customers or partners, deal size, and PR buzz).In the battle between today and tomorrow, today will win every time unless the organization consciously, strategically decides to extend a helping hand to tomorrow. The first step is to measure spending against the four choices above. Do you like what you see? Are you willing to do something about it if you don’t? Remember, you’re making a crucial choice about your company’s future.'\n",
        "kesehatan = 'Superior to formula, human milk provides essential nutrients for infant growth and development. According to UNICEF, “feeding infants nothing but breastmilk guarantees them a food source that is uniquely adapted to their nutrient needs, while also being safe, clean, and healthy.” Despite the nutritional benefits of human milk, less than half of infants under six months old are exclusively breastfed.Infant mortality remains high globally as millions of babies die within their first year of life. Unfortunately, numerous social, political, and structural barriers can hinder a mother’s ability to breastfeed. These often include the influence of social norms, lack of support for breastfeeding mothers, and impact of infant formula marketing. Additionally, women may lack knowledge about the benefits of breastfeeding or are simply unable to produce enough breastmilk. To help address some of these barriers, PATH is working collaboratively with governments and partners worldwide to increase equitable access to human milk.Human milk banks play an essential role in newborn health by providing human donor milk to newborns who would otherwise not be able to receive their mothers’ own milk. This is necessary for newborns that are small and/or sick, meaning those that are born preterm, are small for their gestational age, have low birth weight, have an illness or birth complication, as well as those requiring hospitalization. Donor human milk is specifically targeted to this population of newborns.Donor human milk is used as a bridge, while the mother’s lactation supply can be established and the infant transitions to feeding directly from the breast, equipping both mother and baby for healthy breastfeeding post-discharge. Milk banks collect, screen, store, process, and distribute human milk. Women who donate milk usually breastfeed their own infants and have a milk supply that exceeds their own infants’ needs. Best practice is to implement human milk banks as a component within a comprehensive and integrated system, to ensure they are in line with the broader purpose of protecting, promoting and supporting breastfeeding and child nutrition.Human milk banks are increasing worldwide, as the global health community recognizes the benefits of such efforts on newborn health. PATH works at a global level advocating for exclusive human milk diets and with Ministries of Health to ensure a sustainable and locally appropriate human milk bank system is embedded within newborn care and breastfeeding promotion—such as our work in Kenya. Furthermore, PATH has resources available for establishing and integrating human milk banks into existing health facilities to expand global access. PATH toolkits detail how to ensure appropriate use of donor human milk and how to introduce a rigorous human milk bank system for screening, pasteurizing, storage and distribution, all of which is required to ensure safe donor human milk. These essential efforts help to provide equitable access to human milk for babies around the world.Given what we know about the nutritional benefits of human milk, and the accessibility challenges of this feeding option for newborns, exclusive human milk diets contribute to preventing and reducing diarrheal disease. Infants are at greatest risk of diarrheal disease when they are given foods other than breast milk. This is because they are more likely to be exposed to food- and water-borne pathogens and lose the protection of breast milk’s anti-infective properties. Furthermore, diarrhea is a leading cause of malnutrition in children under five, and malnourished children are more vulnerable to infection. Human milk helps an infant’s immune system to safeguard against infectious diseases like diarrhea and other dangerous pathogens.Breastfeeding and safe provision of donor human milk are significant in efforts to defeat diarrheal disease­: we encourage stakeholders, health providers, and other advocates to strengthen systems to support exclusive human milk diets and utilize available milk banking resources, when appropriate, to advocate for expanded access to nutritional breastmilk for infants in all regions of the world.'"
      ],
      "metadata": {
        "id": "Jfr87G0Dm-QE"
      },
      "execution_count": null,
      "outputs": []
    },
    {
      "cell_type": "markdown",
      "source": [
        "# **Text processing**"
      ],
      "metadata": {
        "id": "ghd-mng42VFw"
      }
    },
    {
      "cell_type": "markdown",
      "source": [
        "setelah mendapatkan artikel selanjutnya kami membuat variabel baru untuk menampung variabel di list yang telah dibuat. selanjutnya melakukan looping per artikel untuk  di word teknize dimana fungsinya untuk memotong teks menjadi kata - kata, melakukan lemmatization, dan stopwords untuk menghapus kata kata yang ada di artikel yang tidak penting untuk menghemat memorui."
      ],
      "metadata": {
        "id": "yDzFmHvj4_GH"
      }
    },
    {
      "cell_type": "code",
      "source": [
        "lemmatizer = WordNetLemmatizer()\n",
        "\n",
        "texts = [olahraga, kesehatan, keuangan]\n",
        "bow_keys = []\n",
        "corpus_texts = []\n",
        "for text in texts:\n",
        "    words  = word_tokenize(text)\n",
        "    texts = [lemmatizer.lemmatize(word) for word in words if word not in set(stopwords.words('english'))]\n",
        "    bow_keys += texts\n",
        "    text = ' '.join(texts)\n",
        "    corpus_texts.append(text)\n",
        "bow_keys = set(bow_keys)\n",
        "print(bow_keys)\n",
        "print(corpus_texts)"
      ],
      "metadata": {
        "colab": {
          "base_uri": "https://localhost:8080/"
        },
        "id": "-UUpoycDtHps",
        "outputId": "514f5565-385b-4854-e12f-9abddba3365d"
      },
      "execution_count": null,
      "outputs": [
        {
          "output_type": "stream",
          "name": "stdout",
          "text": [
            "{'like', 'crowd', 'collect', 'protecting', 'Sheffield', ')', 'play', 'significant', 'up.Fresh', 'Scott', 'territory', 'PATH', 'Premier', 'sport', 'Lisandro', 'opening', 'set', 'develop', 'Champions', 'Donor', 'growth', 'Additionally', 'equipping', 'term', 'match', 'chance', 'And', 'another', 'preterm', 'safeguard', 'region', 'going', 'believe', 'spent', 'protect', 'fifth-worst', 'age', 'structure', 'share', 'swelled', 'diarrheal', 'unavailability', 'four', 'sustainable', 'Infants', 'argument', 'decision', 'goal.Brentford', 'Remember', 'season.All', 'Milk', 'provision', '—', 'exposed', 'like.But', 'timely', 'structural', 'potential', 'department', 'system', 'lead', 'support', 'unfortunate', 'squad', 'attempt', 'mantra', 'email', 'improvement', 'well', 'Diogo', 'week', 'differently', 'favourite', 'easy', 'newborn', 'United', 'likely', 'produce', 'extend', 'data', 'He', 'birth', 'consistent', 'rate', 'particular', 'style', 'single', 'count', 'available', 'Liverpool', 'people', 'formula', 'line', 'could', 'create', 'around', '20', 'responsible', '?', 'born', 'innovative', 'concede.United', 'gestational', 'diverting', 'Fernandes', 'adopted', 'month', 'surpass', 'sometimes', 'part', 'opportunity', 'since', 'PR', 'enough', 'trained', 'defeat', 'contentious', 'infection', 'instinct', 'answer', 'dangerous', 'say', 'implement', 'misfortune', 'cropped', 'today', 'mind', 'Sofyan', 'continues', 'bear', 'sidelined', 'look', 'season', 'day-to-day', 'line-up', ',', 'get', 'consciously', 'conceded', 'clean', 'integrating', 'injury', 'obvious', 'yet', 'pathogen', 'find', 'budget', 'adapted', 'named', 'healthy.', 'According', 'lot', 'Go', 'political', 'breastmilk', 'attack', 'operation', 'Human', 'Willy', '13', '47', 'world', 'lucky', 'provider', 'vendor', 'also', 'instance', '59.8.Take', 'product', 'McTominay', '1,710', 'Wembley.The', 'immediately', 'question', 'accessibility', 'Burnley', 'lie', 'milk', 'health', 'feel', 'collectively', 'Superior', 'basic', 'newborns.Donor', 'added', 'Sources', 'human', 'looking', 'help', 'different', 'sustaining', 'scarce', 'helping', 'however', '2-2', 'reducing', 'allocation', 'way', 'intense', 'It', '5', 'important.', 'global', 'former', 'Wolverhampton', 'club', 'relegated', 'substantive', 'keeping', 'providing', 'anti-infective', '32', 'goal', 'focus.', 'face', 'generation', 'future', 'done', 'resulting', 'huge', 'knowledge', '14th.Ten', 'performance', 'outcome', 'said', 'turbulence', 'change', 'refining', 'Which', 'era', 'thing', 'donor', 'especially', 'soft', 'Furthermore', 'recently', 'decides', 'Kenya', 'Old', 'threatening', 'illness', '.In', 'Bruno', 'much', 'Whac-A-Mole', '’', 'gain', 'In', 'work', 'exploration', 'CEO', 'responds', 'key', 'food-', 'resource', 'protection', 'strategically', 'promoting', 'medical', 'portion', 'fair', '2-1', 'role', 'increasing', 'first-choice', 'targeted', '90', 'Martinez', 'front', 'infectious', 'deliver', 'making', 'No', 'simple', 'regard', 'scored', 'weight', 'scrutiny', 'concede', 'six', 'across', 'difference', 'demand', 'half', 'scenario', 'found', 'official', 'low', '.', 'transition', 'endless', 'year', 'semi-final', 'Ministries', 'math', 'restructuring', 'talked', 'left-backs', 'battle', 'struggle', 'recent', 'majority', 'store', 'becomes', 'need', 'want', 'detail', 'round', 'They', 'chaotic', 'value', 'would', 'encourage', 'simultaneously', 'pathogens.Breastfeeding', 'equitable', 'Andre', 'narrative', 'spending', 'finished', 'delay', 'A', 'food', 'disease\\xad', 'VAR', 'often', 'worldwide', 'effect', 'address', 'material', 'concession', 'You', 'momentum', 'awarded', 'absence', 'appropriate', 'Health', 'process', 'project', 'investment', 'customer', 'put', 'breastfeed', 'precise', 'Many', 'away', 'mother', 'screen', 'advocate', 'stood', 'care', 'To', 'went', 'allocating', 'facility', 'game', 'option', 'history', 'hospitalization', 'noted', 'senior', 'distribute', 'marginal', 'remains', 'breastfeeding', '”', '%', 'start', 'Kambwala', 'offside', 'infant', 'required', 'one', 'debatable', 'given', 'anonymous', '–', 'something', 'involved', 'size', 'use', 'time', 'arrival', '‘', 'pas', 'ravaged', 'development', 'While', 'robbing', 'segregating', 'bank', 'exceeds', 'responsibility', 'willing', 'shot', 'embedded', 'told', 'two', 'organizational', 'road', '.Create', 'deprived', 'treatment', 'Defensively', 'transfermarkt', 'all.But', 'light', 'One', 'side', 'enforced', 'influence', 'balance', '11', 'bottom', 'regularly', 'Gary', '48', 'This', 'integrated', 'The', 'meaning', 'ever', 'appeared', 'world.Given', 'figure', 'disruptive', 'physical', 'supporting', 'bigger', 'extinguish', 'year.The', 'victory', 'woman', ';', 'arguably', 'absentee', 'currently', 'O', 'short-term', 'introduce', 'meant', 'Are', 'service', 'others', 'three', 'certain', 'contribute', 'willingness', 'Garnacho', 'invest', 'strengthen', 'poach', 'disease', 'These', '15', 'subsequent', 'Outside', 'Just', 'direct', 'diarrhea', 'absolute', 'Hag', 'debate.Some', 'opinion', 'immune', 'hand', 'Leaders', 'pick', 'complication', 'weekend', 'preventing', 'At', 'donate', 'past', 'sick', 'manage', 'maintain', 'chain', 'here.', 'Women', 'diet', 'requiring', 'ahead', 'urgent', 'devour', 'organization', 'supply', 'promotion—such', 'top', 'remain', 'produced', 'step', 'stage', 'apace.Ten', 'experimental', 'seen', 'limited', 'high', 'equation.And', 'essential', 'defended', 'per', 'respond', 'revolving', 'call', 'directly', 'effort', 'screening', 'command-and-control', 'worst', 'considered', 'happened', 'Manchester', 'top-flight', 'utilize', 'reach', 'pressing', 'thinking.We', 'player', 'receive', 'Do', 'refereeing', 'marketing', 'commitment', 'per-game', 'win', 'cent', 'vulnerable', '“', 'took', 'Wolves', 'new', 'lion', 'accepting', 'eighth-worst', 'toolkits', 'minister', 'established', 'die', 'made', 'longer', 'Onana', 'IT', 'recognizes', 'learning', 'hierarchy', 'Bournemouth', 'go', 'nutrient', 'late', 'provides', 'source', 'mortality', 'Hojlund', 'risk', 'probably', 'abate', 'higher', 'mistake.Ten', 'problem', 'u', 'method', 'lactation', 'may', 'space', 'working', 'control', 'exclusively', 'norm', 'Trafford', 'advocating', 'particularly', 'expand', 'Dalot', 'government', 'days.It', 'non-stop', 'bucket', 'better', 'fund', 'pasteurizing', 'benefit', '10-15', 'Mason', 'statistical', 'carrying', 'complaint', 'numerous', 'otherwise', 'prove', 'Rasmus', 'simply', 'seems', 'Wanderers', 'Rashford', 'devoted', 'ability', 'broader', 'scene', 'contributing', 'league', 'remarkable.Since', 'partner', 'either', 'course', 'uniquely', 'deal', 'malnutrition', 'and/or', 'segregation', 'City', 'We', 'Unfortunately', 'lower', 'Suddenly', 'total', 'draw', 'January', 'old', 'None', 'insatiable', 'bridge', 'management', ':', 'unless', 'relationship', 'head', 'give', 'usually', 'average', 'chart', '574', 'actual', 'life', 'many', 'access', 'innovation', 'saying', 'doctor', 'level', 'eight', 'le', 'five', 'revenue-producing', 'ensure', 'nutritional', 'measure', 'used', 'every', 'banking', '(', 'load', 'distribution', 'milk.Human', 'company', 'impact', 'focused', 'short', 'taught', 'group', 'population', 'barrier', 'business', 'existing', 'overcome', 'training', 'that.United', 'denied', 'low-quality', 'comprehensive', 'worst-case', 'Today', 'fast', 'team', 'guarantee', 'resulted', 'Europe', 'rigorous', 'hinder', 'property', 'reflect', 'baby', 'nothing', '-12.2', 'drive', 'Ten', '2016-17', 'UNICEF', 'requirement', 'traditional', '10', 'luck', 'noticeable', 'feeding', 'managed', 'globally', 'dedicated', 'When', 'breast', 'Casemiro', 'bind', 'measured', 'crucial', 'maintenance', 'good', 'Amrabat', 'current', 'room', 'increase', 'months.', 'expanded', 'guessed', 'disciplined', 'result', 'establishing', 'recognized', 'double', 'constitutes', 'protected', 'faced', 'reason', 'issue', 'Best', 'unaddressed', 'unchanged', 'But', 'within', 'season.Ten', 'Driscoll', 'Despite', 'malnourished', 'transformative', 'water-borne', 'point', 'come', 'finish', 'breastfed.Infant', 'include', 'Town', 'fixture', 'natural', 'penalty', 'biggest', 'Luton', 'substituted', 'know', 'lack', 'Mount', 'aggressively', 'ultimate', 'record', 'collaboratively', 'definition', 'post-discharge', 'unpredictable', 'buzz', 'concern', 'perception', 'member', 'Alejandro', 'even', 'nature', 'child', 'troubleshooting', 'autonomous', 'Newcastle', 'choice', '60', 'run', 'least', 'predominantly', 'safe', 'bemoan', 'list', 'appears', 'exclusive', 'leading', 'component', 'approach', 'incremental', 'lose', 'small', 'investing', 'locally', 'hat', 'really', 'challenge', 'subjective', 'specifically', 'fortune', 'expected', 'underlying', 'future.Segregate', 'apparent', 'asked', 'though', 'thought', 'session', 'big', 'context', 'greatest', 'arguing', 'Chelsea', '-1', 'nutrition.Human', 'bad', 'bias', 'category', 'operational', 'shipment', 'million', 'leadership', 'basis', 'cause', 'score', 'day', 'favourable', 'provide', 'stress', 'able', 'medicine', 'outing', 'Manchester.But', 'Performance', 'market', 'unable', 'matter', 'Arsenal', 'tomorrow', 'storage', 'bad.Everybody', 'ground', 'therein', 'first', 'practice', 'see', 'answering', 'purpose', 'last', 'door', 'success', 'Here', 'playing', 'firefighter', 'stakeholder', 'How', 'social', 'appointment', 'think', '15th', 'community', 'necessary', 'clear', 'healthy', 'Marcus', 'League', 'sparked'}\n",
            "['Ten Hag took much line argument United ’ last Premier League outing Bournemouth . While accepting “ like minister ” bear ultimate responsibility result , could help bemoan side ’ bad luck past eight months. “ It ’ huge . A lot went u season , ” said . And though United ’ misfortune limited refereeing call Ten Hag ’ mind , trained focus. “ You see penalty conceded last week ( Chelsea Liverpool ) could also going another way . You think course season sometimes get one , sometimes concede one . This season feel like concede.United awarded five penalty season conceded 11 , four given away opening four game Champions League group stage . While Europe especially contentious , many six conceded Premier League sparked debate.Some soft — Rasmus Hojlund Casemiro ’ concession Manchester City Wolverhampton Wanderers particular — others debatable . None , noted , resulted official responsible stood subsequent round fixture , happened Wolves denied penalty Old Trafford opening weekend season.All decision , however , matter opinion . Outside offside , refereeing call subjective nature , era VAR taught u , different definition constitutes clear obvious mistake.Ten Hag substantive ground complaint arguably biggest single reason United ’ struggle : player injury enforced absence . The revolving door United ’ treatment room seen four senior squad member — Bruno Fernandes , Andre Onana , Diogo Dalot Alejandro Garnacho — pas point year.The 2-2 draw Bournemouth first time United named unchanged line-up since opening two game season ravaged injury . According data transfermarkt , United ’ squad collectively spent 1,710 day sidelined since start season.Ten Hag said last week able pick “ favourite ” line-up since 2-1 victory Manchester City Old Trafford January last year . Just United ’ injury appeared abate , new concern cropped up.Fresh problem Willy Kambwala , Mason Mount Sofyan Amrabat meant United ’ absentee list swelled double figure ahead semi-final , Marcus Rashford Scott McTominay appeared carrying issue substituted Wembley.The absence either first-choice left-backs majority season , Ten Hag feel , material effect United ’ ability play way want . Lisandro Martinez ’ unavailability deprived player transformative effect first year Manchester.But luck could certain thing done differently ? United set work restructuring medical department since appointment head sport medicine Gary O ’ Driscoll . Sources , asked remain anonymous protect relationship , believe noticeable improvement since former Arsenal club doctor ’ arrival restructuring continues apace.Ten Hag ’ training method also come scrutiny intense , particularly involved match , put rigorous session day game maintain consistent level physical load across squad . The fast , direct often chaotic style play adopted season also considered part equation.And looking performance style play produced statistical level , United arguably fair share good fortune balance bad.Everybody know United face lot shot goal — 574 total Premier League season . No top-flight team faced many per-game basis , context recent history , figure becomes remarkable.Since 2016-17 , eight 15 top-flight side faced shot United relegated . None finished higher 15th . At current rate , United surpass 15 side yet even absolute worst-case scenario , finish lower 14th.Ten Hag defended United ’ apparent willingness give shot arguing predominantly low-quality chance point . The average shot United faced league season 10 per cent chance resulting goal.Brentford Newcastle worst record regard , average shot 13 per cent chance scored . The difference 13 per cent 10 per cent chance small significant . A marginal gain , like.But concede least 20 shot game , United regularly late , one every 10 go , ’ need score three win . The eighth-worst attack league , 47 goal 32 league game , count that.United ’ 47 goal level Luton Town line expected data , . Defensively , Ten Hag ’ side conceded 48 goal — one Premier League ’ better record — expected total 59.8.Take one away United ’ expected goal difference -12.2 , fifth-worst league . Suddenly , actual goal difference -1 look bad all.But nothing change perception narrative around side like favourable run fixture , short term least , United face Premier League ’ bottom two Old Trafford space four days.It need saying , United better side Sheffield United Burnley comprehensive measure . They need get lucky prove .', 'Superior formula , human milk provides essential nutrient infant growth development . According UNICEF , “ feeding infant nothing breastmilk guarantee food source uniquely adapted nutrient need , also safe , clean , healthy. ” Despite nutritional benefit human milk , le half infant six month old exclusively breastfed.Infant mortality remains high globally million baby die within first year life . Unfortunately , numerous social , political , structural barrier hinder mother ’ ability breastfeed . These often include influence social norm , lack support breastfeeding mother , impact infant formula marketing . Additionally , woman may lack knowledge benefit breastfeeding simply unable produce enough breastmilk . To help address barrier , PATH working collaboratively government partner worldwide increase equitable access human milk.Human milk bank play essential role newborn health providing human donor milk newborn would otherwise able receive mother ’ milk . This necessary newborn small and/or sick , meaning born preterm , small gestational age , low birth weight , illness birth complication , well requiring hospitalization . Donor human milk specifically targeted population newborns.Donor human milk used bridge , mother ’ lactation supply established infant transition feeding directly breast , equipping mother baby healthy breastfeeding post-discharge . Milk bank collect , screen , store , process , distribute human milk . Women donate milk usually breastfeed infant milk supply exceeds infant ’ need . Best practice implement human milk bank component within comprehensive integrated system , ensure line broader purpose protecting , promoting supporting breastfeeding child nutrition.Human milk bank increasing worldwide , global health community recognizes benefit effort newborn health . PATH work global level advocating exclusive human milk diet Ministries Health ensure sustainable locally appropriate human milk bank system embedded within newborn care breastfeeding promotion—such work Kenya . Furthermore , PATH resource available establishing integrating human milk bank existing health facility expand global access . PATH toolkits detail ensure appropriate use donor human milk introduce rigorous human milk bank system screening , pasteurizing , storage distribution , required ensure safe donor human milk . These essential effort help provide equitable access human milk baby around world.Given know nutritional benefit human milk , accessibility challenge feeding option newborn , exclusive human milk diet contribute preventing reducing diarrheal disease . Infants greatest risk diarrheal disease given food breast milk . This likely exposed food- water-borne pathogen lose protection breast milk ’ anti-infective property . Furthermore , diarrhea leading cause malnutrition child five , malnourished child vulnerable infection . Human milk help infant ’ immune system safeguard infectious disease like diarrhea dangerous pathogens.Breastfeeding safe provision donor human milk significant effort defeat diarrheal disease\\xad : encourage stakeholder , health provider , advocate strengthen system support exclusive human milk diet utilize available milk banking resource , appropriate , advocate expanded access nutritional breastmilk infant region world .', 'Here ’ scene : A problem come one supply chain vendor , threatening delay timely shipment product . At time , potential opportunity appears , exploration investment , could lead new generation product road . Which respond first ? You probably reach firefighter ’ hat extinguish short-term problem . And therein lie bigger problem . Leaders organization stress ever two thing simultaneously : deliver today ’ pressing commitment troubleshooting refining process ; find invest innovation opportunity create tomorrow ’ success . How organization responds stress allocating scarce resource crucial often unaddressed issue . The natural bias respond immediately front ( like answering endless email come , instance ) . The problem , instinct crowd longer term , innovative thinking.We ’ talked many organization bind . One told u , “ We ’ playing non-stop ‘ Whac-A-Mole ’ here. ” At another , unfortunate mantra , “ The urgent drive important. ” But ’ found many leading organization able overcome bias , diverting significant resource away today ’ requirement fund innovation deliver tomorrow ’ value . To find , focused two key question underlying challenge : How much organization spending innovation ? And much think spending ? This seems basic , often people ’ know precise answer ’ thought simple term . When recently put question CEO , said guessed organization currently allocating 5 % spending innovation ( new product service ) , added really investing 10-15 % . He went say insatiable demand today ’ operational turbulence robbing organization ability invest future.Segregate fund improvement innovation . You need measure spending across four category , disciplined segregating fund improvement innovation . In absence clear segregation , turbulence day-to-day operation devour lion ’ share resource . Go ahead math current allocation ; ’ likely find 90 % resource devoted keeping light . Many leading IT organization recognized problem manage budget three bucket : operation , maintenance , innovation . They aggressively attempt drive portion spending operation maintenance 90 % 60 % .Create new organization control innovation . You need develop organizational structure control appropriate sustaining disruptive innovation . Today ’ operation incremental improvement managed within traditional management structure , command-and-control hierarchy , tomorrow ’ sustaining innovation big , disruptive innovation need new organizational structure control . It ’ easy revenue-producing part business poach resource innovation project team ( yet ) contributing top line . They need protected – made autonomous , dedicated budget , resource , leadership – . And innovation need measure control reflect experimental approach learning chart new territory unpredictable outcome . Performance measured market momentum ( new targeted customer partner , deal size , PR buzz ) .In battle today tomorrow , today win every time unless organization consciously , strategically decides extend helping hand tomorrow . The first step measure spending four choice . Do like see ? Are willing something ’ ? Remember , ’ making crucial choice company ’ future .']\n"
          ]
        }
      ]
    },
    {
      "cell_type": "markdown",
      "source": [
        "# **Teks yang akan di klasifikasikan**"
      ],
      "metadata": {
        "id": "o6i_zFMH0on_"
      }
    },
    {
      "cell_type": "markdown",
      "source": [
        "“Cristiano Ronaldo came off the bench to earn Manchester United a hard-fought 2-1 victory at Everton in the Premier League on Sunday, taking his career goal tally to 700 in the process. Just as United did last weekend in their derby mauling at the hands of local rivals Manchester City, they again found themselves behind early on at Goodison Park after Alex Iwobi curled a sublime strike into the net from 20 metres.”"
      ],
      "metadata": {
        "id": "oOnJ2gus2Q9J"
      }
    },
    {
      "cell_type": "markdown",
      "source": [
        "selanjutnya mengambil data teks untuk di uji apakah teks tersebut termasuk dalam klasifikasi sport,medical, atau finance. pertama teks tersebut di tokenize terlebih dahulu menggunakan library word_tokenize, selanjutnya di limitization, setelah itu menggunkan stopword untuk menghapus kata yang tidak penting.Dan terakhir membat vektor dari library countvectorizer yang ada di sklearn"
      ],
      "metadata": {
        "id": "-qsxXXbv68rG"
      }
    },
    {
      "cell_type": "code",
      "source": [
        "text_clf = 'Cristiano Ronaldo came off the bench to earn Manchester United a hard-fought 2-1 victory at Everton in the Premier League on Sunday, taking his career goal tally to 700 in the process. Just as United did last weekend in their derby mauling at the hands of local rivals Manchester City, they again found themselves behind early on at Goodison Park after Alex Iwobi curled a sublime strike into the net from 20 metres'\n",
        "wt = word_tokenize(text_clf)\n",
        "word_lematizer = [lemmatizer.lemmatize(word) for word in wt if word not in set(stopwords.words('english'))]\n",
        "words_corpus = [word for word in word_lematizer if word in set(bow_keys)]\n",
        "qtc = ' '.join(words_corpus)\n",
        "corpus_texts.append(qtc)\n",
        "\n",
        "from sklearn.feature_extraction.text import CountVectorizer\n",
        "cv = CountVectorizer()\n",
        "bow_vectors = cv.fit_transform(corpus_texts).toarray()\n",
        "print(bow_vectors)\n",
        "print(len(bow_vectors[0]))"
      ],
      "metadata": {
        "colab": {
          "base_uri": "https://localhost:8080/"
        },
        "id": "9yejltdMxAkI",
        "outputId": "0c3f9dde-38ee-4334-e02e-ab779975544a"
      },
      "execution_count": null,
      "outputs": [
        {
          "output_type": "stream",
          "name": "stdout",
          "text": [
            "[[3 1 1 ... 3 1 2]\n",
            " [0 0 0 ... 1 0 0]\n",
            " [1 0 0 ... 0 1 3]\n",
            " [0 0 0 ... 0 0 0]]\n",
            "817\n"
          ]
        }
      ]
    },
    {
      "cell_type": "markdown",
      "source": [
        "**seperti terlihat pada vektor di atas, total kata yang digunakan adalah 817 kata**\n",
        "\n",
        "\n",
        "\n"
      ],
      "metadata": {
        "id": "MtUfyKq2-nIU"
      }
    },
    {
      "cell_type": "markdown",
      "source": [
        "Step selanjutnya adalah normalisasi Bag of Words, setelah di noemalisasi selanjutnya mengecek kesamaan menggunakan dot product atau perkalian vektor. dan melihat kesamaan teks yang telah di uji tersebut termasuk dalam klasifikasi apa"
      ],
      "metadata": {
        "id": "63IjqGR8_-Ny"
      }
    },
    {
      "cell_type": "code",
      "source": [
        "bow_texts_norm = []\n",
        "for bow in bow_vectors:\n",
        "  length = (sum(i*i for i in bow)) ** 0.5\n",
        "  bow_norm = bow / length\n",
        "  bow_texts_norm.append(bow_norm)\n",
        "\n",
        "similarity_vector = []\n",
        "bow_norm_query = bow_texts_norm[3]\n",
        "for bow in bow_texts_norm[:3]:\n",
        "  similarity_vector.append(sum(i*j for i,j in zip(bow,bow_norm_query)))\n",
        "print(similarity_vector)\n",
        "\n",
        "id_max_sim = similarity_vector.index(max(similarity_vector))\n",
        "\n",
        "if (id_max_sim == 1):\n",
        "  print (\"Teks diklasifikasikan sebagai: Medical (Kesehatan)\")\n",
        "elif (id_max_sim == 0):\n",
        "  print (\"Teks diklasifikasikan sebagai : Sport (olahraga)\")\n",
        "elif (id_max_sim == 2):\n",
        "  print (\"Teks diklasifikasikan sebagai: Finance (keuangan)\")"
      ],
      "metadata": {
        "colab": {
          "base_uri": "https://localhost:8080/"
        },
        "id": "UFGnrMmN3hSh",
        "outputId": "662dccfa-a5dc-4ddf-b55c-b400f50a0fdc"
      },
      "execution_count": null,
      "outputs": [
        {
          "output_type": "stream",
          "name": "stdout",
          "text": [
            "[0.41801910277201215, 0.004782554451485865, 0.021213203435596423]\n",
            "Teks diklasifikasikan sebagai : Sport (olahraga)\n"
          ]
        }
      ]
    },
    {
      "cell_type": "markdown",
      "source": [
        "# **kesimpulan**"
      ],
      "metadata": {
        "id": "2LwvjL0RCbhZ"
      }
    },
    {
      "cell_type": "markdown",
      "source": [
        "setelah melakukan perulagan bercabang, Teks Classification menggunakan Bag Of Words dengan data uji tersebut termasuk dalam kategori klasifikasi sport atau olahraga"
      ],
      "metadata": {
        "id": "B9QI6-c8Cf8y"
      }
    }
  ]
}